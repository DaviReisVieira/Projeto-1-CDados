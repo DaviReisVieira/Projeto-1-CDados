{
 "cells": [
  {
   "cell_type": "markdown",
   "metadata": {},
   "source": [
    "# Projeto 1 - Ciência dos Dados"
   ]
  },
  {
   "cell_type": "markdown",
   "metadata": {},
   "source": [
    "Nome: Breno Quessie Barbosa de Lima\n",
    "\n",
    "Nome: Davi Reis Vieira de Souza"
   ]
  },
  {
   "cell_type": "markdown",
   "metadata": {},
   "source": [
    "**Produto escolhido: Sky Brasil, uma empresa concessionária de serviços de telecomunicações brasileira. Trabalha com televisão por assinatura via satélite e internet banda larga 4G.**\n",
    "\n",
    "Consideramos Relevante os tweets que possuem reclamações ou elogios pertinentes para a empresa, os quais podem agregar com feedbacks para melhorar a qualidade do serviço, atendimento ou na resolução de problemas técnicos. É classificado como Neutro os tweets que possuem alguma citação direta com o produto, mas não agregam para o aperfeiçoamento. A classificação Irrelevante diz respeito aos tweets que são citações incompletas, as quais não fazem sentido, ou propagandas do próprio produto sobre os seus serviços, ou seja, conteúdo que não tem valor para melhorar a qualidade da Sky Brasil."
   ]
  },
  {
   "cell_type": "markdown",
   "metadata": {},
   "source": [
    "___\n",
    "Carregando algumas bibliotecas:"
   ]
  },
  {
   "cell_type": "code",
   "execution_count": 1,
   "metadata": {},
   "outputs": [],
   "source": [
    "%matplotlib inline\n",
    "import pandas as pd\n",
    "import matplotlib.pyplot as plt\n",
    "import numpy as np\n",
    "import os"
   ]
  },
  {
   "cell_type": "markdown",
   "metadata": {},
   "source": [
    "**Carregando o Dataframe `skybrasil.xlsx`**"
   ]
  },
  {
   "cell_type": "code",
   "execution_count": 2,
   "metadata": {
    "scrolled": false,
    "tags": []
   },
   "outputs": [
    {
     "name": "stdout",
     "output_type": "stream",
     "text": [
      "Encontrei o arquivo skybrasil.xlsx, tudo certo para prosseguir com o Projeto!\n"
     ]
    }
   ],
   "source": [
    "filename = 'skybrasil.xlsx'\n",
    "if filename in os.listdir():\n",
    "    print(f'Encontrei o arquivo {filename}, tudo certo para prosseguir com o Projeto!')\n",
    "else:\n",
    "    print(f'Não encontrei o arquivo {filename} aqui no diretório {os.getcwd()}, será que você não baixou o arquivo?')"
   ]
  },
  {
   "cell_type": "markdown",
   "metadata": {},
   "source": [
    "Carregando a base de dados com os tweets classificados como relevantes e não relevantes:"
   ]
  },
  {
   "cell_type": "code",
   "execution_count": 3,
   "metadata": {},
   "outputs": [
    {
     "data": {
      "text/html": [
       "<div>\n",
       "<style scoped>\n",
       "    .dataframe tbody tr th:only-of-type {\n",
       "        vertical-align: middle;\n",
       "    }\n",
       "\n",
       "    .dataframe tbody tr th {\n",
       "        vertical-align: top;\n",
       "    }\n",
       "\n",
       "    .dataframe thead th {\n",
       "        text-align: right;\n",
       "    }\n",
       "</style>\n",
       "<table border=\"1\" class=\"dataframe\">\n",
       "  <thead>\n",
       "    <tr style=\"text-align: right;\">\n",
       "      <th></th>\n",
       "      <th>Classificação</th>\n",
       "      <th>Treinamento</th>\n",
       "    </tr>\n",
       "  </thead>\n",
       "  <tbody>\n",
       "    <tr>\n",
       "      <th>0</th>\n",
       "      <td>2</td>\n",
       "      <td>@skybrasil poxa.. em plena pandemia subindo pr...</td>\n",
       "    </tr>\n",
       "    <tr>\n",
       "      <th>1</th>\n",
       "      <td>2</td>\n",
       "      <td>@skybrasil bora arrumar isso ai pelo amor de d...</td>\n",
       "    </tr>\n",
       "    <tr>\n",
       "      <th>2</th>\n",
       "      <td>1</td>\n",
       "      <td>@maurinhodutra @skybrasil @sbtonline @libertad...</td>\n",
       "    </tr>\n",
       "    <tr>\n",
       "      <th>3</th>\n",
       "      <td>1</td>\n",
       "      <td>@coalhadatricolo @canalesporte09 @skybrasil @s...</td>\n",
       "    </tr>\n",
       "    <tr>\n",
       "      <th>4</th>\n",
       "      <td>2</td>\n",
       "      <td>um forte abraço pra @skybrasil  chuva. trovejo...</td>\n",
       "    </tr>\n",
       "  </tbody>\n",
       "</table>\n",
       "</div>"
      ],
      "text/plain": [
       "   Classificação                                        Treinamento\n",
       "0              2  @skybrasil poxa.. em plena pandemia subindo pr...\n",
       "1              2  @skybrasil bora arrumar isso ai pelo amor de d...\n",
       "2              1  @maurinhodutra @skybrasil @sbtonline @libertad...\n",
       "3              1  @coalhadatricolo @canalesporte09 @skybrasil @s...\n",
       "4              2  um forte abraço pra @skybrasil  chuva. trovejo..."
      ]
     },
     "execution_count": 3,
     "metadata": {},
     "output_type": "execute_result"
    }
   ],
   "source": [
    "train = pd.read_excel(filename)\n",
    "train.head(5)"
   ]
  },
  {
   "cell_type": "code",
   "execution_count": 4,
   "metadata": {},
   "outputs": [
    {
     "data": {
      "text/html": [
       "<div>\n",
       "<style scoped>\n",
       "    .dataframe tbody tr th:only-of-type {\n",
       "        vertical-align: middle;\n",
       "    }\n",
       "\n",
       "    .dataframe tbody tr th {\n",
       "        vertical-align: top;\n",
       "    }\n",
       "\n",
       "    .dataframe thead th {\n",
       "        text-align: right;\n",
       "    }\n",
       "</style>\n",
       "<table border=\"1\" class=\"dataframe\">\n",
       "  <thead>\n",
       "    <tr style=\"text-align: right;\">\n",
       "      <th></th>\n",
       "      <th>Classificação</th>\n",
       "      <th>Teste</th>\n",
       "    </tr>\n",
       "  </thead>\n",
       "  <tbody>\n",
       "    <tr>\n",
       "      <th>0</th>\n",
       "      <td>1</td>\n",
       "      <td>@maurinhodutra @skybrasil @sbtonline @libertad...</td>\n",
       "    </tr>\n",
       "    <tr>\n",
       "      <th>1</th>\n",
       "      <td>2</td>\n",
       "      <td>@skyresponde @skybrasil @proconrj @reclameaqui...</td>\n",
       "    </tr>\n",
       "    <tr>\n",
       "      <th>2</th>\n",
       "      <td>0</td>\n",
       "      <td>rt @minhaoperadora: nova opção chega para subs...</td>\n",
       "    </tr>\n",
       "    <tr>\n",
       "      <th>3</th>\n",
       "      <td>2</td>\n",
       "      <td>rt @danielgonzaga: a @skyresponde @skybrasil p...</td>\n",
       "    </tr>\n",
       "    <tr>\n",
       "      <th>4</th>\n",
       "      <td>0</td>\n",
       "      <td>@christian_cruel @skybrasil larga essa sky gat...</td>\n",
       "    </tr>\n",
       "  </tbody>\n",
       "</table>\n",
       "</div>"
      ],
      "text/plain": [
       "   Classificação                                              Teste\n",
       "0              1  @maurinhodutra @skybrasil @sbtonline @libertad...\n",
       "1              2  @skyresponde @skybrasil @proconrj @reclameaqui...\n",
       "2              0  rt @minhaoperadora: nova opção chega para subs...\n",
       "3              2  rt @danielgonzaga: a @skyresponde @skybrasil p...\n",
       "4              0  @christian_cruel @skybrasil larga essa sky gat..."
      ]
     },
     "execution_count": 4,
     "metadata": {},
     "output_type": "execute_result"
    }
   ],
   "source": [
    "test = pd.read_excel(filename, sheet_name = 'Teste')\n",
    "test.head(5)"
   ]
  },
  {
   "cell_type": "code",
   "execution_count": 5,
   "metadata": {},
   "outputs": [
    {
     "data": {
      "text/html": [
       "<div>\n",
       "<style scoped>\n",
       "    .dataframe tbody tr th:only-of-type {\n",
       "        vertical-align: middle;\n",
       "    }\n",
       "\n",
       "    .dataframe tbody tr th {\n",
       "        vertical-align: top;\n",
       "    }\n",
       "\n",
       "    .dataframe thead th {\n",
       "        text-align: right;\n",
       "    }\n",
       "</style>\n",
       "<table border=\"1\" class=\"dataframe\">\n",
       "  <thead>\n",
       "    <tr style=\"text-align: right;\">\n",
       "      <th></th>\n",
       "      <th>Classificação</th>\n",
       "      <th>Treinamento</th>\n",
       "    </tr>\n",
       "  </thead>\n",
       "  <tbody>\n",
       "    <tr>\n",
       "      <th>0</th>\n",
       "      <td>Relevante</td>\n",
       "      <td>@skybrasil poxa.. em plena pandemia subindo pr...</td>\n",
       "    </tr>\n",
       "    <tr>\n",
       "      <th>1</th>\n",
       "      <td>Relevante</td>\n",
       "      <td>@skybrasil bora arrumar isso ai pelo amor de d...</td>\n",
       "    </tr>\n",
       "    <tr>\n",
       "      <th>2</th>\n",
       "      <td>Neutro</td>\n",
       "      <td>@maurinhodutra @skybrasil @sbtonline @libertad...</td>\n",
       "    </tr>\n",
       "    <tr>\n",
       "      <th>3</th>\n",
       "      <td>Neutro</td>\n",
       "      <td>@coalhadatricolo @canalesporte09 @skybrasil @s...</td>\n",
       "    </tr>\n",
       "    <tr>\n",
       "      <th>4</th>\n",
       "      <td>Relevante</td>\n",
       "      <td>um forte abraço pra @skybrasil  chuva. trovejo...</td>\n",
       "    </tr>\n",
       "  </tbody>\n",
       "</table>\n",
       "</div>"
      ],
      "text/plain": [
       "  Classificação                                        Treinamento\n",
       "0     Relevante  @skybrasil poxa.. em plena pandemia subindo pr...\n",
       "1     Relevante  @skybrasil bora arrumar isso ai pelo amor de d...\n",
       "2        Neutro  @maurinhodutra @skybrasil @sbtonline @libertad...\n",
       "3        Neutro  @coalhadatricolo @canalesporte09 @skybrasil @s...\n",
       "4     Relevante  um forte abraço pra @skybrasil  chuva. trovejo..."
      ]
     },
     "execution_count": 5,
     "metadata": {},
     "output_type": "execute_result"
    }
   ],
   "source": [
    "train['Classificação'] = train['Classificação'].astype('category')\n",
    "train['Classificação'].cat.categories = ('Irrelevante','Neutro','Relevante')\n",
    "train.head(5)"
   ]
  },
  {
   "cell_type": "code",
   "execution_count": 6,
   "metadata": {},
   "outputs": [
    {
     "data": {
      "text/html": [
       "<div>\n",
       "<style scoped>\n",
       "    .dataframe tbody tr th:only-of-type {\n",
       "        vertical-align: middle;\n",
       "    }\n",
       "\n",
       "    .dataframe tbody tr th {\n",
       "        vertical-align: top;\n",
       "    }\n",
       "\n",
       "    .dataframe thead th {\n",
       "        text-align: right;\n",
       "    }\n",
       "</style>\n",
       "<table border=\"1\" class=\"dataframe\">\n",
       "  <thead>\n",
       "    <tr style=\"text-align: right;\">\n",
       "      <th></th>\n",
       "      <th>Classificação</th>\n",
       "      <th>Teste</th>\n",
       "    </tr>\n",
       "  </thead>\n",
       "  <tbody>\n",
       "    <tr>\n",
       "      <th>0</th>\n",
       "      <td>Neutro</td>\n",
       "      <td>@maurinhodutra @skybrasil @sbtonline @libertad...</td>\n",
       "    </tr>\n",
       "    <tr>\n",
       "      <th>1</th>\n",
       "      <td>Relevante</td>\n",
       "      <td>@skyresponde @skybrasil @proconrj @reclameaqui...</td>\n",
       "    </tr>\n",
       "    <tr>\n",
       "      <th>2</th>\n",
       "      <td>Irrelevante</td>\n",
       "      <td>rt @minhaoperadora: nova opção chega para subs...</td>\n",
       "    </tr>\n",
       "    <tr>\n",
       "      <th>3</th>\n",
       "      <td>Relevante</td>\n",
       "      <td>rt @danielgonzaga: a @skyresponde @skybrasil p...</td>\n",
       "    </tr>\n",
       "    <tr>\n",
       "      <th>4</th>\n",
       "      <td>Irrelevante</td>\n",
       "      <td>@christian_cruel @skybrasil larga essa sky gat...</td>\n",
       "    </tr>\n",
       "  </tbody>\n",
       "</table>\n",
       "</div>"
      ],
      "text/plain": [
       "  Classificação                                              Teste\n",
       "0        Neutro  @maurinhodutra @skybrasil @sbtonline @libertad...\n",
       "1     Relevante  @skyresponde @skybrasil @proconrj @reclameaqui...\n",
       "2   Irrelevante  rt @minhaoperadora: nova opção chega para subs...\n",
       "3     Relevante  rt @danielgonzaga: a @skyresponde @skybrasil p...\n",
       "4   Irrelevante  @christian_cruel @skybrasil larga essa sky gat..."
      ]
     },
     "execution_count": 6,
     "metadata": {},
     "output_type": "execute_result"
    }
   ],
   "source": [
    "test['Classificação'] = test['Classificação'].astype('category')\n",
    "test['Classificação'].cat.categories = ('Irrelevante','Neutro','Relevante')\n",
    "test.head(5)"
   ]
  },
  {
   "cell_type": "code",
   "execution_count": 7,
   "metadata": {},
   "outputs": [
    {
     "name": "stdout",
     "output_type": "stream",
     "text": [
      "-----------Dataframe de Treinamento------------\n",
      "Relevante: 267\n",
      "Neutro: 124\n",
      "Irrelevante: 109\n",
      "-----------------------------------------------\n"
     ]
    },
    {
     "data": {
      "image/png": "[encoded data removed]",
      "text/plain": [
       "<Figure size 432x288 with 1 Axes>"
      ]
     },
     "metadata": {
      "needs_background": "light"
     },
     "output_type": "display_data"
    }
   ],
   "source": [
    "train_value_counts = train['Classificação'].value_counts()\n",
    "print('-----------Dataframe de Treinamento------------')\n",
    "print('Relevante:', train_value_counts[2])\n",
    "print('Neutro:', train_value_counts[1])\n",
    "print('Irrelevante:', train_value_counts[0])\n",
    "print('-----------------------------------------------')\n",
    "\n",
    "train_value_counts.plot(kind='bar', title='Dataframe de Treinamento',color = ['g', 'y','r']);"
   ]
  },
  {
   "cell_type": "code",
   "execution_count": 8,
   "metadata": {},
   "outputs": [
    {
     "name": "stdout",
     "output_type": "stream",
     "text": [
      "--------------Dataframe de Teste---------------\n",
      "Relevante: 140\n",
      "Neutro: 60\n",
      "Irrelevante: 52\n",
      "-----------------------------------------------\n"
     ]
    },
    {
     "data": {
      "image/png": "[encoded data removed]",
      "text/plain": [
       "<Figure size 432x288 with 1 Axes>"
      ]
     },
     "metadata": {
      "needs_background": "light"
     },
     "output_type": "display_data"
    }
   ],
   "source": [
    "test_value_counts = test['Classificação'].value_counts()\n",
    "print('--------------Dataframe de Teste---------------')\n",
    "print('Relevante:', test_value_counts[2])\n",
    "print('Neutro:', test_value_counts[1])\n",
    "print('Irrelevante:', test_value_counts[0])\n",
    "print('-----------------------------------------------')\n",
    "\n",
    "test_value_counts.plot(kind='bar', title='Dataframe de Teste',color = ['g', 'y','r']);"
   ]
  },
  {
   "cell_type": "markdown",
   "metadata": {},
   "source": [
    "# Classificador automático de Sentimento"
   ]
  },
  {
   "cell_type": "markdown",
   "metadata": {},
   "source": [
    "## Montando um Classificador Naive-Bayes"
   ]
  },
  {
   "cell_type": "markdown",
   "metadata": {},
   "source": [
    "### Indrodução"
   ]
  },
  {
   "cell_type": "markdown",
   "metadata": {},
   "source": [
    "Inicialmente, pensamos na construção do nosso classificaador através da seguinte equação:\n",
    "\n",
    "$$P(C|Frase) = \\frac{P(frase|C)P(C)}{P(Frase)}$$\n",
    "\n",
    "Aonde:\n",
    "\n",
    "$Classificação$ = Classificação\n",
    "\n",
    "$Frase$ = Esse é apenas um exemplo da equação\n",
    "\n",
    "$P(Frase|C) = P(Esse|C).P(é|C).P(apenas|C).P(um|C).P(exemplo|C).P(da|C).P(equação|C)$\n",
    "\n",
    "Porém, havia um problema: Palavras que ainda não estivessem no Treinamento por Classificação teriam Probabilidade 0, o que inviabilizaria a classificação de todos os tweets. Por isso, utilizamos Laplace Smoothing:\n",
    "\n",
    "$$P(Palavra|C) = \\frac{\\sum(Palavra) + \\alpha}{\\sum(C) + \\alpha|Vocabulário|}$$\n",
    "\n",
    "Onde $\\alpha = 1$, logo:\n",
    "\n",
    "$$P(Palavra|C) = \\frac{\\sum(Palavra) + 1}{\\sum(C) + |Vocabulário|}$$\n",
    "\n",
    "E, para calcularmos a probabilidade da classificação dado o tweet, utilizamos:\n",
    "\n",
    "$$P(C|Frase) = P(Esse|C).P(é|C).P(apenas|C).P(um|C).P(exemplo|C).P(da|C).P(equação|C).P(C)$$\n",
    "\n",
    "\n",
    "Mesmo resolvendo o problema de palavras não classificadas, acreditamos que era possível otimizar o processo de classificação e melhorar a acurácia do modelo utilizando valores logaritimizados, uma vez que, dada a multiplicação de todas as probabilidades acima descritas, o valor seria muito pequeno. Com isso, trabalhariamos com valores os quais o processo computacional matemático também melhorasse. Logo, nossa nova equação será:\n",
    "\n",
    "$$\\log P(C|Frase)= \\log P(Esse|C)+ \\log P(é|C)+...+\\log P(equação|C)+\\log P(C)$$\n",
    "\n",
    "Abaixo, está a discussão que apresentou este inside para nossa equipe: \n",
    "\n",
    "[Why do we need Laplace smoothing in Naive Bayes while logarithm may resolve the problem?](https://stats.stackexchange.com/questions/274251/why-do-we-need-laplace-smoothing-in-naive-bayes-while-logarithm-may-resolve-the)"
   ]
  },
  {
   "cell_type": "markdown",
   "metadata": {},
   "source": [
    "### Funções de limpeza e tratamento"
   ]
  },
  {
   "cell_type": "markdown",
   "metadata": {},
   "source": [
    "Abaixo, está a nossa função de limpeza dos tweets. Comentamos o que cada linha faz no tweet."
   ]
  },
  {
   "cell_type": "code",
   "execution_count": 9,
   "metadata": {},
   "outputs": [],
   "source": [
    "import re \n",
    "\n",
    "def cleanup(frase_suja):\n",
    "    frase_limpa = re.sub(r'http\\S+', '', frase_suja, flags=re.MULTILINE) #Removendo Links no Tweet\n",
    "    frase_limpa = \" \".join(re.findall(\"(\\w+|[^\\w ]+)\",frase_limpa)) #Adiciona espaços entre os emojis\n",
    "    frase_limpa = re.sub('\\s*([@])\\s*', r' \\1', frase_limpa) #Juntando @ anteriormente separados\n",
    "    frase_limpa = re.sub(re.compile(\"\"\"[!-',.:)\"(?;#@]\"\"\"), '', frase_limpa) #Removendo pontuações e sinais\n",
    "    frase_limpa = re.sub('rt','',frase_limpa) #Removendo 'rt'\n",
    "    frase_limpa = re.sub('(\\s+)',' ',frase_limpa) #Removendo multiplos espaços\n",
    "    frase_limpa = re.sub('\\n','',frase_limpa) #Removendo '\\n' CASO o algum tweet ainda possua\n",
    "    frase_limpa = frase_limpa.lower() #Deixando todas as letras em minúsculo\n",
    "    \n",
    "    return frase_limpa "
   ]
  },
  {
   "cell_type": "markdown",
   "metadata": {},
   "source": [
    "### Montando o Classificador"
   ]
  },
  {
   "cell_type": "code",
   "execution_count": 10,
   "metadata": {},
   "outputs": [],
   "source": [
    "from collections import defaultdict"
   ]
  },
  {
   "cell_type": "code",
   "execution_count": 11,
   "metadata": {},
   "outputs": [],
   "source": [
    "class NaiveBayesModel:\n",
    "        \n",
    "    def dictIncrement(self,str_array,dict_index):\n",
    "        str_array=str_array[0]\n",
    "            \n",
    "        for single_word in str_array.split():\n",
    "            #Adiciona quantidade de vezes que a palavra aparece por classificação no dicionário\n",
    "            self.classifications_dicts[dict_index][single_word] += 1\n",
    "                  \n",
    "    def fit(self,dataset,labels):\n",
    "        self.training_strs=dataset #Strings com os tweets\n",
    "        self.labels=labels #Strings com as classificações\n",
    "        self.classifications=np.unique(labels) #Lista com classificações\n",
    "        self.classifications_dicts=np.array([defaultdict(lambda: 0) for i in range(self.classifications.shape[0])]) #Lista de dicionários por classificação\n",
    "\n",
    "        if not isinstance(self.training_strs,np.ndarray): # Redundância caso não cheguem arrays \n",
    "            self.training_strs=np.array(self.training_strs)\n",
    "            \n",
    "        if not isinstance(self.labels,np.ndarray): # Redundância caso não cheguem arrays \n",
    "            self.labels=np.array(self.labels)\n",
    "            \n",
    "        for i,classification in enumerate(self.classifications): \n",
    "            unique_class_array=self.training_strs[self.labels==classification] # Pega cada frase por classificação           \n",
    "            unique_class_array_cleaned=[cleanup(i) for i in unique_class_array] #Limpa cada frase\n",
    "            unique_class_array_cleaned=pd.DataFrame(data=unique_class_array_cleaned) # Cria um DF organizado por classificação\n",
    "            \n",
    "            np.apply_along_axis(self.dictIncrement,1,unique_class_array_cleaned,i) # Função dictIncrement         \n",
    "        \n",
    "        classification_prob=np.empty(self.classifications.shape[0]) # P(C)\n",
    "        all_words=[]\n",
    "        clas_word_counts=np.empty(self.classifications.shape[0]) # Total de Palavras por Classificação\n",
    "\n",
    "        for i,classification in enumerate(self.classifications):\n",
    "            classification_prob[i]=np.sum(self.labels==classification)/float(self.labels.shape[0]) # P(C)=(N° C)/Total de Classificações\n",
    "            clas_word_counts[i]=np.sum(np.array(list(self.classifications_dicts[i].values()))) # nº Palavras/classificação\n",
    "            # Palavras/Classificação                          \n",
    "            all_words+=self.classifications_dicts[i].keys()                                                      \n",
    "        \n",
    "        # Lista de todas as palavras sem repetição        \n",
    "        self.vocaburary=np.unique(np.array(all_words))\n",
    "        # Total de palavras sem repetição\n",
    "        self.vocaburary_size=self.vocaburary.shape[0]\n",
    "        \n",
    "        # Calculando o denominador fixo para cada classificação                                    \n",
    "        denominator=np.array([clas_word_counts[i]+self.vocaburary_size for i,classification in enumerate(self.classifications)])\n",
    "\n",
    "        # [Dict with words({word:word_count}),Classification probability, denominator value]\n",
    "        self.category_array=[(self.classifications_dicts[i],classification_prob[i],denominator[i]) for i,c in enumerate(self.classifications)]                               \n",
    "        self.category_array=np.array(self.category_array)\n",
    "        \n",
    "    def predictStrForEachClassification(self,phrase):                                                                                                                \n",
    "        words_prop=np.zeros(self.classifications.shape[0]) # Guardar a probabilidade para cada frase\n",
    "        \n",
    "        # probabilidade de encontrar para cada classificação\n",
    "        for i,classification in enumerate(self.classifications): \n",
    "            phrase=cleanup(phrase)\n",
    "            for test_token in phrase.split(): #divide a frase por palavra                     \n",
    "                \n",
    "                #Numerador                     \n",
    "                test_token_counts=self.category_array[i][0].get(test_token,0)+1\n",
    "                \n",
    "                #Probabilidade para a palavra                          \n",
    "                word_prob=test_token_counts/float(self.category_array[i][2])  \n",
    "                \n",
    "                #Estamos usando o Log para evitar valores negativos e otimizar o processo\n",
    "                words_prop[i]+=np.log(word_prob)\n",
    "                                              \n",
    "        phrase_prop=np.empty(self.classifications.shape[0])\n",
    "        for i,classification in enumerate(self.classifications):\n",
    "            phrase_prop[i]=words_prop[i]+np.log(self.category_array[i][1])                                  \n",
    "      \n",
    "        return phrase_prop\n",
    "   \n",
    "    def predict(self,test_set): \n",
    "        predictions=[] \n",
    "        for test_str in test_set:                                               \n",
    "            phrase_prop=self.predictStrForEachClassification(test_str) \n",
    "            predictions.append(self.classifications[np.argmax(phrase_prop)])\n",
    "        return np.array(predictions)"
   ]
  },
  {
   "cell_type": "markdown",
   "metadata": {},
   "source": [
    "# Treinando e realizando as Predições\n",
    "\n",
    "Agora você deve testar o seu classificador com a base de Testes."
   ]
  },
  {
   "cell_type": "code",
   "execution_count": 12,
   "metadata": {},
   "outputs": [],
   "source": [
    "train_data=train['Treinamento']\n",
    "train_labels=train['Classificação']"
   ]
  },
  {
   "cell_type": "code",
   "execution_count": 13,
   "metadata": {},
   "outputs": [
    {
     "name": "stdout",
     "output_type": "stream",
     "text": [
      "Treinando o Modelo...\n",
      "\n",
      "Treino Completo!\n"
     ]
    }
   ],
   "source": [
    "nb=NaiveBayesModel()\n",
    "\n",
    "print (\"Treinando o Modelo...\")\n",
    " \n",
    "nb.fit(train_data,train_labels)\n",
    "\n",
    "print ('\\nTreino Completo!')"
   ]
  },
  {
   "cell_type": "code",
   "execution_count": 14,
   "metadata": {},
   "outputs": [],
   "source": [
    "test_data=test['Teste']\n",
    "test_labels=test['Classificação']"
   ]
  },
  {
   "cell_type": "code",
   "execution_count": 15,
   "metadata": {},
   "outputs": [],
   "source": [
    "novas_classificacoes = nb.predict(test_data)"
   ]
  },
  {
   "cell_type": "code",
   "execution_count": 16,
   "metadata": {
    "scrolled": true
   },
   "outputs": [
    {
     "data": {
      "text/html": [
       "<div>\n",
       "<style scoped>\n",
       "    .dataframe tbody tr th:only-of-type {\n",
       "        vertical-align: middle;\n",
       "    }\n",
       "\n",
       "    .dataframe tbody tr th {\n",
       "        vertical-align: top;\n",
       "    }\n",
       "\n",
       "    .dataframe thead th {\n",
       "        text-align: right;\n",
       "    }\n",
       "</style>\n",
       "<table border=\"1\" class=\"dataframe\">\n",
       "  <thead>\n",
       "    <tr style=\"text-align: right;\">\n",
       "      <th></th>\n",
       "      <th>Classificação</th>\n",
       "      <th>Teste</th>\n",
       "      <th>Previsão</th>\n",
       "    </tr>\n",
       "  </thead>\n",
       "  <tbody>\n",
       "    <tr>\n",
       "      <th>0</th>\n",
       "      <td>Neutro</td>\n",
       "      <td>@maurinhodutra @skybrasil @sbtonline @libertad...</td>\n",
       "      <td>Neutro</td>\n",
       "    </tr>\n",
       "    <tr>\n",
       "      <th>1</th>\n",
       "      <td>Relevante</td>\n",
       "      <td>@skyresponde @skybrasil @proconrj @reclameaqui...</td>\n",
       "      <td>Relevante</td>\n",
       "    </tr>\n",
       "    <tr>\n",
       "      <th>2</th>\n",
       "      <td>Irrelevante</td>\n",
       "      <td>rt @minhaoperadora: nova opção chega para subs...</td>\n",
       "      <td>Irrelevante</td>\n",
       "    </tr>\n",
       "    <tr>\n",
       "      <th>3</th>\n",
       "      <td>Relevante</td>\n",
       "      <td>rt @danielgonzaga: a @skyresponde @skybrasil p...</td>\n",
       "      <td>Relevante</td>\n",
       "    </tr>\n",
       "    <tr>\n",
       "      <th>4</th>\n",
       "      <td>Irrelevante</td>\n",
       "      <td>@christian_cruel @skybrasil larga essa sky gat...</td>\n",
       "      <td>Neutro</td>\n",
       "    </tr>\n",
       "  </tbody>\n",
       "</table>\n",
       "</div>"
      ],
      "text/plain": [
       "  Classificação                                              Teste  \\\n",
       "0        Neutro  @maurinhodutra @skybrasil @sbtonline @libertad...   \n",
       "1     Relevante  @skyresponde @skybrasil @proconrj @reclameaqui...   \n",
       "2   Irrelevante  rt @minhaoperadora: nova opção chega para subs...   \n",
       "3     Relevante  rt @danielgonzaga: a @skyresponde @skybrasil p...   \n",
       "4   Irrelevante  @christian_cruel @skybrasil larga essa sky gat...   \n",
       "\n",
       "      Previsão  \n",
       "0       Neutro  \n",
       "1    Relevante  \n",
       "2  Irrelevante  \n",
       "3    Relevante  \n",
       "4       Neutro  "
      ]
     },
     "execution_count": 16,
     "metadata": {},
     "output_type": "execute_result"
    }
   ],
   "source": [
    "test['Previsão']=novas_classificacoes\n",
    "test.head()"
   ]
  },
  {
   "cell_type": "markdown",
   "metadata": {},
   "source": [
    "# Verificando a performance do Classificador e Concluindo"
   ]
  },
  {
   "cell_type": "code",
   "execution_count": 17,
   "metadata": {},
   "outputs": [
    {
     "name": "stdout",
     "output_type": "stream",
     "text": [
      "Acurácia do Modelo:  72.61904761904762 %\n"
     ]
    }
   ],
   "source": [
    "acuracia=np.sum(test['Previsão']==test['Classificação'])/test_labels.shape[0]\n",
    "\n",
    "print (\"Acurácia do Modelo: \",acuracia*100,\"%\")"
   ]
  },
  {
   "cell_type": "code",
   "execution_count": 18,
   "metadata": {},
   "outputs": [],
   "source": [
    "import itertools\n",
    "from sklearn.metrics import confusion_matrix\n",
    "\n",
    "def plot_confusion_matrix(cm, target_names, title='Matriz de Confusão', cmap=None, normalize=True):\n",
    "    accuracy = np.trace(cm) / float(np.sum(cm))\n",
    "    misclass = 1 - accuracy\n",
    "    if cmap is None:\n",
    "        cmap = plt.get_cmap('Reds')\n",
    "    plt.figure(figsize=(8, 6))\n",
    "    plt.imshow(cm, interpolation='nearest', cmap=cmap)\n",
    "    plt.title(title)\n",
    "    plt.colorbar()\n",
    "    if target_names is not None:\n",
    "        tick_marks = np.arange(len(target_names))\n",
    "        plt.xticks(tick_marks, target_names, rotation=45)\n",
    "        plt.yticks(tick_marks, target_names)\n",
    "    if normalize:\n",
    "        cm = cm.astype('float') / cm.sum(axis=1)[:, np.newaxis]\n",
    "    thresh = cm.max() / 1.5 if normalize else cm.max() / 2\n",
    "    for i, j in itertools.product(range(cm.shape[0]), range(cm.shape[1])):\n",
    "        if normalize:\n",
    "            plt.text(j, i, \"{:0.3f}\".format(cm[i, j]),\n",
    "                     horizontalalignment=\"center\",\n",
    "                     color=\"white\" if cm[i, j] > thresh else \"black\")\n",
    "        else:\n",
    "            plt.text(j, i, \"{:,}\".format(cm[i, j]),\n",
    "                     horizontalalignment=\"center\",\n",
    "                     color=\"white\" if cm[i, j] > thresh else \"black\")\n",
    "    plt.tight_layout()\n",
    "    plt.ylabel('Classificação Manual')\n",
    "    plt.xlabel('Previsão\\nAcurácia={:0.4f}; Classificação Incorreta={:0.4f}'.format(accuracy, misclass))\n",
    "    plt.show()"
   ]
  },
  {
   "cell_type": "code",
   "execution_count": 19,
   "metadata": {
    "scrolled": false
   },
   "outputs": [
    {
     "data": {
      "image/png": "[encoded data removed]",
      "text/plain": [
       "<Figure size 576x432 with 2 Axes>"
      ]
     },
     "metadata": {
      "needs_background": "light"
     },
     "output_type": "display_data"
    }
   ],
   "source": [
    "plot_confusion_matrix(confusion_matrix(test['Classificação'], test['Previsão']), ['Irrelevante', 'Neutro','Relevante'])"
   ]
  },
  {
   "cell_type": "code",
   "execution_count": 20,
   "metadata": {},
   "outputs": [
    {
     "name": "stdout",
     "output_type": "stream",
     "text": [
      "Porcentagem de Irrelevantes Verdadeiros:  48.07692307692308 %\n",
      "Porcentagem de Irrelevantes Falsos:  51.92307692307692 %\n"
     ]
    }
   ],
   "source": [
    "filtro_I = test_labels=='Irrelevante'\n",
    "filtro_I_verdadeiro = (test_labels=='Irrelevante')&(test['Previsão']=='Irrelevante')\n",
    "porcentagem_I_verdadeiro = (test.loc[filtro_I_verdadeiro].shape[0]/test.loc[filtro_I].shape[0])\n",
    "porcentagem_I_falso=1-porcentagem_I_verdadeiro\n",
    "\n",
    "print('Porcentagem de Irrelevantes Verdadeiros: ',porcentagem_I_verdadeiro*100, \"%\")\n",
    "print('Porcentagem de Irrelevantes Falsos: ', porcentagem_I_falso*100, \"%\")"
   ]
  },
  {
   "cell_type": "code",
   "execution_count": 21,
   "metadata": {},
   "outputs": [
    {
     "name": "stdout",
     "output_type": "stream",
     "text": [
      "Porcentagem de Neutros Verdadeiros:  58.333333333333336 %\n",
      "Porcentagem de Neutros Falsos:  41.666666666666664 %\n"
     ]
    }
   ],
   "source": [
    "filtro_N = test_labels=='Neutro'\n",
    "filtro_N_verdadeiro = (test_labels=='Neutro')&(test['Previsão']=='Neutro')\n",
    "porcentagem_N_verdadeiro = (test.loc[filtro_N_verdadeiro].shape[0]/test.loc[filtro_N].shape[0])\n",
    "porcentagem_N_falso=1-porcentagem_N_verdadeiro\n",
    "\n",
    "print('Porcentagem de Neutros Verdadeiros: ',porcentagem_N_verdadeiro*100, \"%\")\n",
    "print('Porcentagem de Neutros Falsos: ', porcentagem_N_falso*100, \"%\")"
   ]
  },
  {
   "cell_type": "code",
   "execution_count": 22,
   "metadata": {},
   "outputs": [
    {
     "name": "stdout",
     "output_type": "stream",
     "text": [
      "Porcentagem de Relevantes Verdadeiros:  87.85714285714286 %\n",
      "Porcentagem de Relevantes Falsos:  12.142857142857144 %\n"
     ]
    }
   ],
   "source": [
    "filtro_R = test_labels=='Relevante'\n",
    "filtro_R_verdadeiro = (test_labels=='Relevante')&(test['Previsão']=='Relevante')\n",
    "porcentagem_R_verdadeiro = (test.loc[filtro_R_verdadeiro].shape[0]/test.loc[filtro_R].shape[0])\n",
    "porcentagem_R_falso=1-porcentagem_R_verdadeiro\n",
    "\n",
    "print('Porcentagem de Relevantes Verdadeiros: ',porcentagem_R_verdadeiro*100, \"%\")\n",
    "print('Porcentagem de Relevantes Falsos: ', porcentagem_R_falso*100, \"%\")"
   ]
  },
  {
   "cell_type": "code",
   "execution_count": 23,
   "metadata": {},
   "outputs": [
    {
     "data": {
      "image/png": "[encoded data removed]",
      "text/plain": [
       "<Figure size 1080x360 with 3 Axes>"
      ]
     },
     "metadata": {},
     "output_type": "display_data"
    }
   ],
   "source": [
    "labels = 'Verdadeiros', 'Falsos'\n",
    "I_plot = [porcentagem_I_verdadeiro, porcentagem_I_falso]\n",
    "N_plot = [porcentagem_N_verdadeiro, porcentagem_N_falso]\n",
    "R_plot = [porcentagem_R_verdadeiro, porcentagem_R_falso]\n",
    "colors = ['lightskyblue', 'lightcoral']\n",
    "explode = (0.08, 0) \n",
    "\n",
    "fig = plt.figure(figsize=(15, 5))\n",
    "plt.subplot(131)\n",
    "plt.pie(I_plot, explode=explode, labels=labels, colors=colors,\n",
    "        autopct='%1.1f%%', shadow=True, startangle=140)\n",
    "plt.axis('equal')\n",
    "plt.title(\"Porcentagem de Tweets Irrelevantes\")\n",
    "\n",
    "plt.subplot(132)\n",
    "plt.pie(N_plot, explode=explode, labels=labels, colors=colors,\n",
    "        autopct='%1.1f%%', shadow=True, startangle=140)\n",
    "plt.axis('equal')\n",
    "plt.title(\"Porcentagem de Tweets Neutros\")\n",
    "\n",
    "plt.subplot(133)\n",
    "plt.pie(R_plot, explode=explode, labels=labels, colors=colors,\n",
    "        autopct='%1.1f%%', shadow=True, startangle=140)\n",
    "plt.axis('equal')\n",
    "plt.title(\"Porcentagem de Tweets Relevantes\")\n",
    "plt.show()"
   ]
  },
  {
   "cell_type": "markdown",
   "metadata": {},
   "source": [
    "Após a aplicação do classificador Naive Bayes na base de dados utilizada, foi obtida uma porcentagem aproximada de 87.9% de\n",
    "tweets que realmente são relevantes. Um percentual importante, visto que, o produto analisado se trata de um serviço, ou seja,\n",
    "reclamações de todos os tipos são frequentes, desde apenas indignações utilizando palavras de baixo calão até feedbacks os quais podem acrescentar significativamente o serviço da Sky. Contudo, o nosso classificador retorna valores consideravelmente relevantes para tweets irrelevantes falsos (∼51.9%), o mesmo ocorre para os tweets neutros falsos (∼41.7%). Como consequência disso, muitos tweets não são descartados como irrelevantes ou neutros e podem estar sendo classificados como relevantes.\n",
    "\n",
    "Esses números podem ser justificados pelas mensagens que apresentam dupla negação ou comentários sarcásticos. Visto que, não foi possível anular essa possibilidade totalmente, pois o classificador analisar as probabilidades de cada palavra individualmente. Isso faz com que tweets como \"eu nunca não odiei tanto a sky como agora\" ou \"essa sky é demais, sempre me dando dor de cabeça\" possam ser classificados como relevantes. Com isso, é possível obter-se um modelo mais preciso se esses detalhes forem observados e tratados com mais afinco.\n",
    "\n",
    "É importante salientar que não se deve alimentar a base de treinamento com o próprio classificador devido ao fato dos erros já existentes serem propagados e, consequentemente, gerarem piores resultados, causando uma maior imprecisão nos dados conseguintes e uma menor confiabilidade do modelo.\n",
    "\n",
    "Além disso, é possível observar outras funcionalidades para o classificador Naive Bayes. Entre elas, analisar cenários políticos durante eleições, como as que ocorrerão este ano nos EUA, ou até mesmo obter probabilidades de se ter determinada doença a partir de resultados de testes feitos anteriormente.\n",
    "\n",
    "Por fim, o cliente deve continuar financiando o projeto pois, além de trazer informações relevantes para a melhoria do serviço, com um maior capital será possível viabilizar melhorias no classificador e aumentar o dataframe de análise com atualizações periódicas, tornando-o mais preciso e inteligente. Desse modo, além de se obter uma maior precisão na classificação dos tweets, existirá a possibilidade de promover melhores soluções para as principais reclamações dos clientes, conhecendo-os melhor e gerando uma relação mais próxima entre prestador de serviço e usuário."
   ]
  },
  {
   "cell_type": "markdown",
   "metadata": {},
   "source": [
    "# Aperfeiçoamento:\n",
    "\n",
    "Os trabalhos vão evoluir em conceito dependendo da quantidade de itens avançados:\n",
    "\n",
    "- [X] Limpar: \\n, :, \", ', (, ), etc SEM remover emojis\n",
    "- [X] Corrigir separação de espaços entre palavras e emojis ou entre emojis e emojis\n",
    "- [X] Propor outras limpezas e transformações que não afetem a qualidade da informação ou classificação\n",
    "- [X] Criar categorias intermediárias de relevância baseadas na probabilidade: ex.: muito relevante, relevante, neutro, irrelevante, muito irrelevante (3 categorias: C, mais categorias conta para B)\n",
    "- [X] Explicar por que não posso usar o próprio classificador para gerar mais amostras de treinamento\n",
    "- [X] Propor diferentes cenários para Naïve Bayes fora do contexto do projeto\n",
    "- [X] Sugerir e explicar melhorias reais com indicações concretas de como implementar (indicar como fazer e indicar material de pesquisa) - Foi utilizado Log\n",
    "- [X] Montar um dashboard que realiza análise de sentimento e visualiza estes dados"
   ]
  },
  {
   "cell_type": "markdown",
   "metadata": {},
   "source": [
    "# Referências"
   ]
  },
  {
   "cell_type": "markdown",
   "metadata": {},
   "source": [
    "[Naive Bayes and Text Classification](https://arxiv.org/pdf/1410.5329.pdf)  **Mais completo**\n",
    "\n",
    "[A practical explanation of a Naive Bayes Classifier](https://monkeylearn.com/blog/practical-explanation-naive-bayes-classifier/) **Mais simples**\n",
    "\n",
    "[Applying Multinomial Naive Bayes to NLP Problems: A Practical Explanation](https://medium.com/syncedreview/applying-multinomial-naive-bayes-to-nlp-problems-a-practical-explanation-4f5271768ebf#:~:text=A%20solution%20would%20be%20Laplace,incorporated%20in%20every%20probability%20estimate.&text=this%20is%20a%20way%20of,it%20is%20called%20Laplace%20smoothing.) **Mais simples e completo**\n",
    "\n",
    "[Why do we need Laplace smoothing in Naive Bayes while logarithm may resolve the problem?](https://stats.stackexchange.com/questions/274251/why-do-we-need-laplace-smoothing-in-naive-bayes-while-logarithm-may-resolve-the) **Usar Log?**"
   ]
  },
  {
   "cell_type": "code",
   "execution_count": null,
   "metadata": {},
   "outputs": [],
   "source": []
  }
 ],
 "metadata": {
  "kernelspec": {
   "display_name": "Python 3",
   "language": "python",
   "name": "python3"
  },
  "language_info": {
   "codemirror_mode": {
    "name": "ipython",
    "version": 3
   },
   "file_extension": ".py",
   "mimetype": "text/x-python",
   "name": "python",
   "nbconvert_exporter": "python",
   "pygments_lexer": "ipython3",
   "version": "3.7.8"
  },
  "toc": {
   "base_numbering": 1,
   "nav_menu": {},
   "number_sections": true,
   "sideBar": true,
   "skip_h1_title": false,
   "title_cell": "Table of Contents",
   "title_sidebar": "Contents",
   "toc_cell": false,
   "toc_position": {},
   "toc_section_display": true,
   "toc_window_display": false
  },
  "varInspector": {
   "cols": {
    "lenName": 16,
    "lenType": 16,
    "lenVar": 40
   },
   "kernels_config": {
    "python": {
     "delete_cmd_postfix": "",
     "delete_cmd_prefix": "del ",
     "library": "var_list.py",
     "varRefreshCmd": "print(var_dic_list())"
    },
    "r": {
     "delete_cmd_postfix": ") ",
     "delete_cmd_prefix": "rm(",
     "library": "var_list.r",
     "varRefreshCmd": "cat(var_dic_list()) "
    }
   },
   "types_to_exclude": [
    "module",
    "function",
    "builtin_function_or_method",
    "instance",
    "_Feature"
   ],
   "window_display": false
  }
 },
 "nbformat": 4,
 "nbformat_minor": 4
}
